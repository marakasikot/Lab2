{
  "nbformat": 4,
  "nbformat_minor": 0,
  "metadata": {
    "colab": {
      "provenance": []
    },
    "kernelspec": {
      "name": "python3",
      "display_name": "Python 3"
    },
    "language_info": {
      "name": "python"
    }
  },
  "cells": [
    {
      "cell_type": "code",
      "execution_count": 59,
      "metadata": {
        "colab": {
          "base_uri": "https://localhost:8080/"
        },
        "id": "Ly3QXnHmaOPi",
        "outputId": "f76659d3-ae32-4c8a-f245-43fcc4b93864"
      },
      "outputs": [
        {
          "output_type": "stream",
          "name": "stdout",
          "text": [
            "[[1.   0.21 0.16 0.22 0.   0.   0.   0.   0.   0.  ]\n",
            " [0.21 1.   0.15 0.07 0.   0.   0.   0.   0.   0.  ]\n",
            " [0.16 0.15 1.   0.06 0.   0.   0.   0.   0.   0.  ]\n",
            " [0.22 0.07 0.06 1.   0.   0.   0.   0.   0.   0.  ]\n",
            " [0.   0.   0.   0.   1.   0.   0.04 0.   0.04 0.  ]\n",
            " [0.   0.   0.   0.   0.   1.   0.   0.   0.   0.  ]\n",
            " [0.   0.   0.   0.   0.04 0.   1.   0.03 0.04 0.04]\n",
            " [0.   0.   0.   0.   0.   0.   0.03 1.   0.12 0.14]\n",
            " [0.   0.   0.   0.   0.04 0.   0.04 0.12 1.   0.2 ]\n",
            " [0.   0.   0.   0.   0.   0.   0.04 0.14 0.2  1.  ]]\n"
          ]
        }
      ],
      "source": [
        "from sklearn.feature_extraction.text import TfidfVectorizer\n",
        "from sklearn.metrics.pairwise import cosine_similarity\n",
        "import numpy as np\n",
        "\n",
        "def calculate_tfidf(texts_processed):\n",
        "\n",
        "    # Обчислення TF-IDF значень для текстів\n",
        "    vectorizer = TfidfVectorizer()\n",
        "    tfidf_matrix = vectorizer.fit_transform(texts_processed)\n",
        "\n",
        "    # Обчислення косинусної подібності\n",
        "    cosine_matrix = cosine_similarity(tfidf_matrix)\n",
        "\n",
        "    # Округлення значень до двох знаків після коми\n",
        "    cosine_matrix = np.round(cosine_matrix, 2)\n",
        "\n",
        "    return cosine_matrix\n",
        "\n",
        "# Виклик функції\n",
        "cosine_matrix = calculate_tfidf(texts_processed)\n",
        "print(cosine_matrix)\n"
      ]
    },
    {
      "cell_type": "markdown",
      "source": [],
      "metadata": {
        "id": "_AycV1ekhfEx"
      }
    }
  ]
}